{
 "cells": [
  {
   "cell_type": "markdown",
   "metadata": {},
   "source": [
    "标题\n",
    "#\n",
    "##\n",
    "###\n",
    "####"
   ]
  },
  {
   "cell_type": "markdown",
   "metadata": {},
   "source": [
    "黑体：\n",
    "** 黑体 ** （双星号）"
   ]
  },
  {
   "cell_type": "markdown",
   "metadata": {},
   "source": [
    "斜体：*斜体* （单星号）"
   ]
  },
  {
   "cell_type": "markdown",
   "metadata": {},
   "source": [
    "引用一段话：(大于符号)\n",
    " > You are the apple of my eye. \n",
    " "
   ]
  },
  {
   "cell_type": "markdown",
   "metadata": {},
   "source": [
    "点序号：（单星号+空格）\n",
    "* 列出几个观点\n",
    "* 不带序号\n",
    "    * 子观点"
   ]
  },
  {
   "cell_type": "markdown",
   "metadata": {},
   "source": [
    "数字序号：（数字.+空格）但数字不影响顺序\n",
    "1. 列出观点\n",
    "2. 带序号的\n",
    "2. 这一行前面还是2但是显示为3\n",
    "    * 子观点\n",
    "   "
   ]
  },
  {
   "cell_type": "markdown",
   "metadata": {},
   "source": [
    "插入数学符号：参考Latex\n",
    "\n",
    "$e^{i\\pi}+1 = 0$\n",
    "\n",
    "$\\sum_{\\forall i}{x_i^{2}} $\n",
    "\n"
   ]
  },
  {
   "cell_type": "markdown",
   "metadata": {},
   "source": [
    "插入图片：\n",
    "\n",
    "* 方法一\n",
    "\n",
    "![刀塔2](https://timgsa.baidu.com/timg?image&quality=80&size=b9999_10000&sec=1543396219589&di=1e2d6d037566a67148882faeec4c2d2f&imgtype=0&src=http%3A%2F%2Fdingyue.nosdn.127.net%2Fz4%3DrBusLPQjR85y47WxTiapeRsusDhCKTs7u8WPE9iW5m1526374482393.jpg)\n"
   ]
  },
  {
   "cell_type": "markdown",
   "metadata": {},
   "source": [
    "* 方法二：\n",
    "\n",
    "img src 相对路径方法（参考html中的资料）"
   ]
  },
  {
   "cell_type": "markdown",
   "metadata": {},
   "source": [
    "* 方法三"
   ]
  },
  {
   "cell_type": "code",
   "execution_count": 5,
   "metadata": {},
   "outputs": [],
   "source": [
    "from IPython.display import Image"
   ]
  },
  {
   "cell_type": "markdown",
   "metadata": {},
   "source": [
    "Image(filename = '地址',width = 200)"
   ]
  },
  {
   "cell_type": "markdown",
   "metadata": {},
   "source": [
    "插入表格：(冒号表示向哪边对齐)\n",
    "\n",
    "|第一栏        |第二栏       |第三栏|\n",
    "|------|:-----:|----:|\n",
    "|col 3 is | dsa | 595|\n",
    "|col 2 is | daq |895|\n",
    "|col 4 is | dqqw| 695|"
   ]
  },
  {
   "cell_type": "code",
   "execution_count": null,
   "metadata": {},
   "outputs": [],
   "source": []
  }
 ],
 "metadata": {
  "kernelspec": {
   "display_name": "Python 3",
   "language": "python",
   "name": "python3"
  },
  "language_info": {
   "codemirror_mode": {
    "name": "ipython",
    "version": 3
   },
   "file_extension": ".py",
   "mimetype": "text/x-python",
   "name": "python",
   "nbconvert_exporter": "python",
   "pygments_lexer": "ipython3",
   "version": "3.6.4"
  }
 },
 "nbformat": 4,
 "nbformat_minor": 2
}
