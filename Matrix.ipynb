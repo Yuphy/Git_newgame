{
 "cells": [
  {
   "cell_type": "code",
   "execution_count": 1,
   "metadata": {
    "scrolled": true
   },
   "outputs": [
    {
     "name": "stdout",
     "output_type": "stream",
     "text": [
      "A+B =  [5 5 3]\n",
      "A-B =  [-3 -1  3]\n"
     ]
    }
   ],
   "source": [
    "import numpy as np\n",
    "A = np.array([1,2,3])\n",
    "B = np.array([4,3,0])\n",
    "print ('A+B = ',np.add(A,B))\n",
    "print ('A-B = ',np.subtract(A,B))"
   ]
  },
  {
   "cell_type": "code",
   "execution_count": 2,
   "metadata": {},
   "outputs": [
    {
     "name": "stdout",
     "output_type": "stream",
     "text": [
      "np.multiply(A,A) =  [1 4 9]\n",
      "A * A =  [1 4 9]\n"
     ]
    }
   ],
   "source": [
    "A = np.array([1,2,3])\n",
    "print ('np.multiply(A,A) = ',np.multiply(A,A))\n",
    "print ('A * A = ',A*A)"
   ]
  },
  {
   "cell_type": "code",
   "execution_count": 4,
   "metadata": {},
   "outputs": [
    {
     "name": "stdout",
     "output_type": "stream",
     "text": [
      "np.matmul(C,D) =  [[18 11 16 16]\n",
      " [ 9  6 12 12]]\n",
      "C@D= [[18 11 16 16]\n",
      " [ 9  6 12 12]]\n"
     ]
    }
   ],
   "source": [
    "C = np.array([[1,2,3],\n",
    "              [1,1,1]])\n",
    "D = np.array([[4,3,9,9],\n",
    "             [1,1,2,2],\n",
    "             [4,2,1,1]])\n",
    "\n",
    "print ('np.matmul(C,D) = ',np.matmul(C,D))\n",
    "print ('C@D=',np.matmul(C,D))"
   ]
  },
  {
   "cell_type": "code",
   "execution_count": 5,
   "metadata": {},
   "outputs": [
    {
     "data": {
      "text/plain": [
       "array([[18, 11, 16, 16],\n",
       "       [ 9,  6, 12, 12]])"
      ]
     },
     "execution_count": 5,
     "metadata": {},
     "output_type": "execute_result"
    }
   ],
   "source": [
    "C@D"
   ]
  },
  {
   "cell_type": "code",
   "execution_count": 7,
   "metadata": {},
   "outputs": [
    {
     "data": {
      "text/plain": [
       "array([[1, 4, 9],\n",
       "       [1, 2, 3]])"
      ]
     },
     "execution_count": 7,
     "metadata": {},
     "output_type": "execute_result"
    }
   ],
   "source": [
    "A*C"
   ]
  },
  {
   "cell_type": "code",
   "execution_count": 8,
   "metadata": {},
   "outputs": [
    {
     "name": "stdout",
     "output_type": "stream",
     "text": [
      "(4, 4)\n",
      "(3, 4, 2)\n"
     ]
    }
   ],
   "source": [
    "m_4_4 = np.array([[1,2,3,4],                  \n",
    "                 [3,6,2,3],\n",
    "                 [4,2,1,5],\n",
    "                 [6,4,4,2]])\n",
    "m_3_4_2 = np.array([\n",
    "                        [[2,3],\n",
    "                         [6,3],\n",
    "                         [1,3],\n",
    "                         [9,4]],\n",
    "    \n",
    "                        [[2,3],\n",
    "                         [6,1],\n",
    "                         [2,1],\n",
    "                         [3,2]],\n",
    "    \n",
    "                        [[7,4],\n",
    "                         [2,7],\n",
    "                         [4,7],\n",
    "                         [9,5]]\n",
    "])\n",
    "print (m_4_4.shape)\n",
    "print (m_3_4_2.shape)"
   ]
  },
  {
   "cell_type": "code",
   "execution_count": 11,
   "metadata": {},
   "outputs": [
    {
     "name": "stdout",
     "output_type": "stream",
     "text": [
      "dot:\n",
      " [[[53 34]\n",
      "  [32 16]\n",
      "  [59 59]]\n",
      "\n",
      " [[71 45]\n",
      "  [55 23]\n",
      "  [68 83]]\n",
      "\n",
      " [[66 41]\n",
      "  [37 25]\n",
      "  [81 62]]\n",
      "\n",
      " [[58 50]\n",
      "  [50 30]\n",
      "  [84 90]]]\n",
      "matmul:\n",
      " [[[53 34]\n",
      "  [71 45]\n",
      "  [66 41]\n",
      "  [58 50]]\n",
      "\n",
      " [[32 16]\n",
      "  [55 23]\n",
      "  [37 25]\n",
      "  [50 30]]\n",
      "\n",
      " [[59 59]\n",
      "  [68 83]\n",
      "  [81 62]\n",
      "  [84 90]]]\n",
      "(4, 3, 2)\n",
      "(3, 4, 2)\n"
     ]
    }
   ],
   "source": [
    "print ('dot:\\n',np.dot(m_4_4,m_3_4_2))\n",
    "print ('matmul:\\n',np.matmul(m_4_4,m_3_4_2))\n",
    "print (np.dot(m_4_4,m_3_4_2).shape)\n",
    "print (np.matmul(m_4_4,m_3_4_2).shape)"
   ]
  },
  {
   "cell_type": "code",
   "execution_count": null,
   "metadata": {},
   "outputs": [],
   "source": []
  }
 ],
 "metadata": {
  "kernelspec": {
   "display_name": "Python 3",
   "language": "python",
   "name": "python3"
  },
  "language_info": {
   "codemirror_mode": {
    "name": "ipython",
    "version": 3
   },
   "file_extension": ".py",
   "mimetype": "text/x-python",
   "name": "python",
   "nbconvert_exporter": "python",
   "pygments_lexer": "ipython3",
   "version": "3.6.4"
  }
 },
 "nbformat": 4,
 "nbformat_minor": 2
}
